{
 "cells": [
  {
   "cell_type": "markdown",
   "id": "c8d7fe9a",
   "metadata": {},
   "source": [
    "### Problem\n",
    "Alice loves candies, so she went into a candy shop. Now the shopkeeper sells candies in packets and all packets contain an odd number of candies (1, 3, 5, 7.....). Alice wants exactly N candies but she also loves patterns so she decided to buy candies only if the number of candies in the packets is consecutive and distinct (means she cannot buy the same candy packet more than once) and the sum of all the candies in those packets is exactly N.\n",
    "\n",
    "Alice has an infinite amount of money and the shopkeeper also has infinite amount candy packets, so Alice wonders how many different sets of candy packets she can buy.\n",
    "\n",
    "Find the number of different sets of candy packets that Alice can buy.\n",
    "\n",
    "Input format\n",
    "\n",
    "The first and the only line contains a single integer N(1 <= N <= 1000000000).\n",
    "\n",
    "Output format\n",
    "\n",
    "Print a single integer denoting the number of different sets of candy packets Alice can buy."
   ]
  },
  {
   "cell_type": "markdown",
   "id": "1325125d",
   "metadata": {},
   "source": [
    "### Solution"
   ]
  },
  {
   "cell_type": "code",
   "execution_count": 1,
   "id": "3709d3ab",
   "metadata": {},
   "outputs": [
    {
     "name": "stdout",
     "output_type": "stream",
     "text": [
      "45\n",
      "Number of set is/are: 3\n"
     ]
    }
   ],
   "source": [
    "from math import sqrt\n",
    "\n",
    "num = int(input())\n",
    "set_num = 0\n",
    "\n",
    "if (num % 2 == 0):\n",
    "    for value in range(2, int(sqrt(num)), 2):\n",
    "        if (num % value == 0):\n",
    "            if ((num / value) % 2 == 0):\n",
    "                set_num += 1\n",
    "else:\n",
    "    for value in range(1, int(sqrt(num)), 2):\n",
    "        if (num % value == 0):\n",
    "            if ((num / value) % 2 == 1):\n",
    "                set_num += 1\n",
    "print(f\"Number of set is/are: {set_num}\")\n",
    "            "
   ]
  }
 ],
 "metadata": {
  "kernelspec": {
   "display_name": "Python 3 (ipykernel)",
   "language": "python",
   "name": "python3"
  },
  "language_info": {
   "codemirror_mode": {
    "name": "ipython",
    "version": 3
   },
   "file_extension": ".py",
   "mimetype": "text/x-python",
   "name": "python",
   "nbconvert_exporter": "python",
   "pygments_lexer": "ipython3",
   "version": "3.9.7"
  }
 },
 "nbformat": 4,
 "nbformat_minor": 5
}
