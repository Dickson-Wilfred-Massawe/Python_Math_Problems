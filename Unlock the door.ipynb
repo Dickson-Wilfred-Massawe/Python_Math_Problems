{
 "cells": [
  {
   "cell_type": "markdown",
   "id": "977a0238",
   "metadata": {},
   "source": [
    "### Problem\n",
    "Our Friend Monk has finally found the Temple of Programming secrets. However, the door of the temple is firmly locked. Now, as per the rules of the temple, Monk needs to enter a Secret Password in a special language to unlock the door. This language, unlike English consists of K alphabets. The properties of this secret password are:\n",
    "\n",
    "1.It has a length of N characters.\n",
    "\n",
    "2.It is composed only of the K characters belonging to the Special language.\n",
    "\n",
    "3.Each character belonging to the special language has been used at max once in the secret code.\n",
    "\n",
    "Now, Monk has no idea about what the ideal password may be and needs you help. You need to help Monk find the total number of distinct candidate Strings for it Modulo 10^9 + 7.\n",
    "\n",
    "Input Format:\n",
    "\n",
    "The first line contains a single integer T denoting the number of test cases. Each of the next T lines contain two integers N and K denoting the length of the Secret Password and the number of characters of the Special language to be used respectively.\n",
    "\n",
    "Output Format:\n",
    "\n",
    "For each test case, output the number of possible distinct secret passwords Modulo 10^9 + 7 ."
   ]
  },
  {
   "cell_type": "code",
   "execution_count": 7,
   "id": "3078c558",
   "metadata": {},
   "outputs": [
    {
     "name": "stdout",
     "output_type": "stream",
     "text": [
      "1\n",
      "5 5\n",
      "120\n"
     ]
    }
   ],
   "source": [
    "trs = int(input()) # trs stand for trials\n",
    "char = input() # Character that hold two values lenght and number of character\n",
    "\n",
    "char.split()\n",
    "cl = int(char[0]) # Character lenght\n",
    "cn = int(char[2]) # Character numbers\n",
    "\n",
    "a = 1\n",
    "for c in range(1, cl+1):\n",
    "    a = a*c\n",
    "    \n",
    "b = (cl - cn) + 1\n",
    "for c in range(1, b+1):\n",
    "    b = b*c\n",
    "\n",
    "ans = int((a / b) % 1000000007)\n",
    "print (ans)"
   ]
  }
 ],
 "metadata": {
  "kernelspec": {
   "display_name": "Python 3 (ipykernel)",
   "language": "python",
   "name": "python3"
  },
  "language_info": {
   "codemirror_mode": {
    "name": "ipython",
    "version": 3
   },
   "file_extension": ".py",
   "mimetype": "text/x-python",
   "name": "python",
   "nbconvert_exporter": "python",
   "pygments_lexer": "ipython3",
   "version": "3.9.7"
  }
 },
 "nbformat": 4,
 "nbformat_minor": 5
}
